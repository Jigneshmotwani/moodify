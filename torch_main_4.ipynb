{
 "cells": [
  {
   "cell_type": "code",
   "execution_count": null,
   "metadata": {},
   "outputs": [],
   "source": [
    "%matplotlib inline\n",
    "import torch\n",
    "import numpy as np\n",
    "import matplotlib.pyplot as plt\n",
    "from IPython.display import Audio, display\n",
    "import os"
   ]
  },
  {
   "cell_type": "code",
   "execution_count": 1,
   "metadata": {},
   "outputs": [],
   "source": [
    "MODEL_TYPE = \"yamnet\"  # yamnet/evo_cnn/whisper\n",
    "FEATURE_TYPE = {\n",
    "    \"yamnet\": \"waveforms\",\n",
    "    \"evo_cnn\": \"melspecs\",\n",
    "    \"whisper\": \"whisper_inputs\"\n",
    "}[MODEL_TYPE]\n"
   ]
  },
  {
   "cell_type": "code",
   "execution_count": null,
   "metadata": {},
   "outputs": [
    {
     "ename": "NameError",
     "evalue": "name 'torch' is not defined",
     "output_type": "error",
     "traceback": [
      "\u001b[0;31m---------------------------------------------------------------------------\u001b[0m",
      "\u001b[0;31mNameError\u001b[0m                                 Traceback (most recent call last)",
      "Cell \u001b[0;32mIn[2], line 1\u001b[0m\n\u001b[0;32m----> 1\u001b[0m device \u001b[38;5;241m=\u001b[39m \u001b[43mtorch\u001b[49m\u001b[38;5;241m.\u001b[39mdevice(\u001b[38;5;124m'\u001b[39m\u001b[38;5;124mcuda\u001b[39m\u001b[38;5;124m'\u001b[39m \u001b[38;5;28;01mif\u001b[39;00m torch\u001b[38;5;241m.\u001b[39mcuda\u001b[38;5;241m.\u001b[39mis_available() \u001b[38;5;28;01melse\u001b[39;00m \u001b[38;5;124m'\u001b[39m\u001b[38;5;124mcpu\u001b[39m\u001b[38;5;124m'\u001b[39m)\n\u001b[1;32m      2\u001b[0m \u001b[38;5;28mprint\u001b[39m(\u001b[38;5;124mf\u001b[39m\u001b[38;5;124m\"\u001b[39m\u001b[38;5;124mUsing device: \u001b[39m\u001b[38;5;132;01m{\u001b[39;00mdevice\u001b[38;5;132;01m}\u001b[39;00m\u001b[38;5;124m\"\u001b[39m)\n\u001b[1;32m      3\u001b[0m \u001b[38;5;28mprint\u001b[39m(\u001b[38;5;124mf\u001b[39m\u001b[38;5;124m\"\u001b[39m\u001b[38;5;124mCUDA version: \u001b[39m\u001b[38;5;132;01m{\u001b[39;00mtorch\u001b[38;5;241m.\u001b[39mversion\u001b[38;5;241m.\u001b[39mcuda\u001b[38;5;132;01m}\u001b[39;00m\u001b[38;5;124m\"\u001b[39m) \u001b[38;5;28;01mif\u001b[39;00m device\u001b[38;5;241m.\u001b[39mtype \u001b[38;5;241m==\u001b[39m \u001b[38;5;124m'\u001b[39m\u001b[38;5;124mcuda\u001b[39m\u001b[38;5;124m'\u001b[39m \u001b[38;5;28;01melse\u001b[39;00m \u001b[38;5;28;01mNone\u001b[39;00m\n",
      "\u001b[0;31mNameError\u001b[0m: name 'torch' is not defined"
     ]
    }
   ],
   "source": [
    "device = torch.device(\"cuda\" if torch.cuda.is_available() else \"cpu\")\n",
    "print(f\"Using device: {device}\")"
   ]
  },
  {
   "cell_type": "code",
   "execution_count": null,
   "metadata": {},
   "outputs": [],
   "source": [
    "import sys\n",
    "\n",
    "sys.path.append(\"..\")\n",
    "\n",
    "from python_helpers import get_project_root_dir\n",
    "from datasets import SoundTracksDataset\n",
    "from models import YAMNetMER, EvoCNN, WhisperMER\n",
    "from train import ModelTrainer\n",
    "\n"
   ]
  },
  {
   "cell_type": "code",
   "execution_count": null,
   "metadata": {},
   "outputs": [],
   "source": [
    "full_dataset = SoundTracksDataset()\n",
    "print(f\"Dataset size: {len(full_dataset)} samples\")\n",
    "print(f\"Sample features shape: {full_dataset.melspecs[0].shape}\")"
   ]
  },
  {
   "cell_type": "code",
   "execution_count": null,
   "metadata": {},
   "outputs": [],
   "source": [
    "if MODEL_TYPE == \"whisper\":\n",
    "    from transformers import WhisperProcessor\n",
    "    \n",
    "    processor = WhisperProcessor.from_pretrained(\"openai/whisper-large-v3\")\n",
    "    \n",
    "    def process_whisper(waveform):\n",
    "        waveform_16k = torchaudio.functional.resample(waveform, 44100, 16000)\n",
    "        return processor(\n",
    "            waveform_16k.numpy(),\n",
    "            sampling_rate=16000,\n",
    "            return_tensors=\"pt\"\n",
    "        )\n",
    "    \n",
    "    # Convert all waveforms to Whisper inputs\n",
    "    whisper_features = [process_whisper(wf) for wf in full_dataset.waveforms]\n",
    "    full_dataset.features['whisper_inputs'] = whisper_features\n",
    "\n",
    "\n",
    "train_val, test = full_dataset.train_test_split(split_size=0.2)\n",
    "train, val = train_val.train_test_split(split_size=0.25)\n",
    "print(f\"Train: {len(train)}, Val: {len(val)}, Test: {len(test)}\")"
   ]
  },
  {
   "cell_type": "code",
   "execution_count": null,
   "metadata": {},
   "outputs": [],
   "source": [
    "model_selector = {\n",
    "    \"yamnet\": YAMNetMER(),\n",
    "    \"evo_cnn\": EvoCNN(),\n",
    "    \"whisper\": WhisperMER()\n",
    "}\n",
    "model = model_selector[MODEL_TYPE].to(device)\n",
    "print(f\"Selected {MODEL_TYPE} model:\")\n",
    "print(model)\n",
    "\n",
    "# Training Configuration\n",
    "trainer = ModelTrainer(\n",
    "    task='multiclass',\n",
    "    num_classes=4,\n",
    "    device=device\n",
    ")\n",
    "\n",
    "# Training Parameters\n",
    "config = {\n",
    "    \"yamnet\": {\"batch_size\": 64, \"lr\": 0.001, \"epochs\": 20},\n",
    "    \"evo_cnn\": {\"batch_size\": 32, \"lr\": 0.0005, \"epochs\": 50},\n",
    "    \"whisper\": {\"batch_size\": 2, \"lr\": 2e-5, \"epochs\": 10}\n",
    "}[MODEL_TYPE]\n",
    "\n",
    "# Start Training\n",
    "\n",
    "trainer.train(\n",
    "    model=model,\n",
    "    train_dset=train.to(device),\n",
    "    val_dset=val.to(device),\n",
    "    batch_size=config[\"batch_size\"],\n",
    "    max_epochs=config[\"epochs\"],\n",
    "    lr=config[\"lr\"],\n",
    "    take_best=True,\n",
    ")\n"
   ]
  },
  {
   "cell_type": "code",
   "execution_count": null,
   "metadata": {},
   "outputs": [],
   "source": []
  },
  {
   "cell_type": "code",
   "execution_count": null,
   "metadata": {},
   "outputs": [],
   "source": []
  },
  {
   "cell_type": "code",
   "execution_count": null,
   "metadata": {},
   "outputs": [],
   "source": [
    "test = test.to(device)\n",
    "test_loss, test_acc, test_cm = trainer.evaluate_performance(model, test)\n",
    "print(f\"\\nTest Accuracy: {test_acc:.2%}\")\n",
    "print(\"Confusion Matrix:\")\n",
    "print(test_cm)"
   ]
  },
  {
   "cell_type": "code",
   "execution_count": null,
   "metadata": {},
   "outputs": [],
   "source": [
    "plt.figure(figsize=(10,8))\n",
    "plt.imshow(test_cm.cpu().numpy(), cmap='Blues')\n",
    "plt.title('Confusion Matrix')\n",
    "plt.xticks(range(4), ['Happy', 'Sad', 'Anger', 'Neutral'])\n",
    "plt.yticks(range(4), ['Happy', 'Sad', 'Anger', 'Neutral'])\n",
    "plt.colorbar()\n",
    "plt.show()"
   ]
  },
  {
   "cell_type": "code",
   "execution_count": null,
   "metadata": {},
   "outputs": [],
   "source": []
  }
 ],
 "metadata": {
  "kernelspec": {
   "display_name": "venv",
   "language": "python",
   "name": "python3"
  },
  "language_info": {
   "codemirror_mode": {
    "name": "ipython",
    "version": 3
   },
   "file_extension": ".py",
   "mimetype": "text/x-python",
   "name": "python",
   "nbconvert_exporter": "python",
   "pygments_lexer": "ipython3",
   "version": "3.13.2"
  }
 },
 "nbformat": 4,
 "nbformat_minor": 2
}
