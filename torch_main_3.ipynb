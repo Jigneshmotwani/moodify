{
 "cells": [
  {
   "cell_type": "code",
   "execution_count": null,
   "metadata": {},
   "outputs": [],
   "source": [
    "%matplotlib inline\n",
    "import torch\n",
    "import numpy as np\n",
    "import matplotlib.pyplot as plt\n",
    "from IPython.display import Audio, display\n",
    "import os"
   ]
  },
  {
   "cell_type": "code",
   "execution_count": null,
   "metadata": {},
   "outputs": [],
   "source": [
    "device = torch.device('cuda' if torch.cuda.is_available() else 'cpu')\n",
    "print(f\"Using device: {device}\")\n",
    "print(f\"CUDA version: {torch.version.cuda}\") if device.type == 'cuda' else None"
   ]
  },
  {
   "cell_type": "code",
   "execution_count": null,
   "metadata": {},
   "outputs": [],
   "source": [
    "import sys\n",
    "sys.path.append(\"..\")  # Add parent directory to path\n",
    "from python_helpers import get_project_root_dir\n",
    "from datasets import SoundTracksDataset\n",
    "import models\n"
   ]
  },
  {
   "cell_type": "code",
   "execution_count": null,
   "metadata": {},
   "outputs": [],
   "source": [
    "full_dataset = SoundTracksDataset()\n",
    "print(f\"Dataset size: {len(full_dataset)} samples\")\n",
    "print(f\"Sample features shape: {full_dataset.melspecs[0].shape}\")"
   ]
  },
  {
   "cell_type": "code",
   "execution_count": null,
   "metadata": {},
   "outputs": [],
   "source": [
    "train_val, test = full_dataset.train_test_split(split_size=0.2)\n",
    "train, val = train_val.train_test_split(split_size=0.25)\n",
    "print(f\"Train: {len(train)}, Val: {len(val)}, Test: {len(test)}\")"
   ]
  },
  {
   "cell_type": "code",
   "execution_count": null,
   "metadata": {},
   "outputs": [],
   "source": [
    "MODEL_TYPE = 'vgg'  # Change to 'vgg' or 'nilscnn'\n",
    "FEATURE_TYPE = 'melspecs'\n",
    "\n",
    "model = {\n",
    "    'nilscnn': models.NilsHMeierCNN(FEATURE_TYPE),\n",
    "    'vgg': models.VGGStyleCNN(FEATURE_TYPE),\n",
    "    'resnet': models.ResNetStyleCNN(FEATURE_TYPE)\n",
    "}[MODEL_TYPE].to(device)\n",
    "\n",
    "print(f\"Selected model: {MODEL_TYPE.upper()}\")\n",
    "print(model)\n"
   ]
  },
  {
   "cell_type": "code",
   "execution_count": null,
   "metadata": {},
   "outputs": [],
   "source": [
    "from train import ModelTrainer\n",
    "\n",
    "trainer = ModelTrainer(\n",
    "    task='multiclass',\n",
    "    num_classes=4,\n",
    "    device=device\n",
    ")"
   ]
  },
  {
   "cell_type": "code",
   "execution_count": null,
   "metadata": {},
   "outputs": [],
   "source": [
    "trainer.train(\n",
    "    model=model,\n",
    "    train_dset=train.to(device),\n",
    "    val_dset=val.to(device),\n",
    "    batch_size=16,\n",
    "    max_epochs=20,\n",
    "    lr=0.0001,\n",
    "    lambda_val=0.01,\n",
    "    l1_ratio=0.0,\n",
    "    take_best=True\n",
    ")"
   ]
  },
  {
   "cell_type": "code",
   "execution_count": null,
   "metadata": {},
   "outputs": [],
   "source": [
    "test = test.to(device)\n",
    "test_loss, test_acc, test_cm = trainer.evaluate_performance(model, test)\n",
    "print(f\"\\nFinal Test Performance:\")\n",
    "print(f\"Loss: {test_loss:.4f} | Accuracy: {test_acc:.2%}\")"
   ]
  },
  {
   "cell_type": "code",
   "execution_count": null,
   "metadata": {},
   "outputs": [],
   "source": [
    "plt.figure(figsize=(10,8))\n",
    "plt.imshow(test_cm.cpu().numpy(), cmap='Blues')\n",
    "plt.title('Confusion Matrix')\n",
    "plt.xlabel('Predicted')\n",
    "plt.ylabel('Actual')\n",
    "plt.xticks(range(4), ['Happy', 'Sad', 'Anger', 'Neutral'])\n",
    "plt.yticks(range(4), ['Happy', 'Sad', 'Anger', 'Neutral'])\n",
    "plt.colorbar()\n",
    "plt.show()"
   ]
  },
  {
   "cell_type": "code",
   "execution_count": null,
   "metadata": {},
   "outputs": [],
   "source": [
    "sample_idx = np.random.choice(len(test), 3)\n",
    "for idx in sample_idx:\n",
    "    features, true_label = test[idx]\n",
    "    with torch.no_grad():\n",
    "        pred = model({k:v.unsqueeze(0).to(device) for k,v in features.items()})\n",
    "    \n",
    "    print(f\"\\nSample {idx}:\")\n",
    "    print(f\"True: {true_label.item()} | Predicted: {pred.argmax().item()}\")\n",
    "    display(Audio(features['waveforms'].cpu().numpy(), rate=44100))"
   ]
  }
 ],
 "metadata": {
  "kernelspec": {
   "display_name": "venv",
   "language": "python",
   "name": "python3"
  },
  "language_info": {
   "codemirror_mode": {
    "name": "ipython",
    "version": 3
   },
   "file_extension": ".py",
   "mimetype": "text/x-python",
   "name": "python",
   "nbconvert_exporter": "python",
   "pygments_lexer": "ipython3",
   "version": "3.13.2"
  }
 },
 "nbformat": 4,
 "nbformat_minor": 2
}
